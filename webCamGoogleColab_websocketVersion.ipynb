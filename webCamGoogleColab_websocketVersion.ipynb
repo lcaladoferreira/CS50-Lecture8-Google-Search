{
  "nbformat": 4,
  "nbformat_minor": 0,
  "metadata": {
    "colab": {
      "name": "webCamGoogleColab_websocketVersion.ipynb",
      "provenance": [],
      "collapsed_sections": [],
      "include_colab_link": true
    },
    "kernelspec": {
      "name": "python3",
      "display_name": "Python 3"
    }
  },
  "cells": [
    {
      "cell_type": "markdown",
      "metadata": {
        "id": "view-in-github",
        "colab_type": "text"
      },
      "source": [
        "<a href=\"https://colab.research.google.com/github/lcaladoferreira/CS50-Lecture8-Google-Search/blob/master/webCamGoogleColab_websocketVersion.ipynb\" target=\"_parent\"><img src=\"https://colab.research.google.com/assets/colab-badge.svg\" alt=\"Open In Colab\"/></a>"
      ]
    },
    {
      "cell_type": "markdown",
      "metadata": {
        "id": "9duzzorgTWLt"
      },
      "source": [
        "# Use web camera on google colaboratory by websocket\n",
        "When it doesn't work, restart runtime."
      ]
    },
    {
      "cell_type": "markdown",
      "metadata": {
        "id": "XSCwu0RL9AvH"
      },
      "source": [
        "## Install Ngrok and websocket"
      ]
    },
    {
      "cell_type": "code",
      "metadata": {
        "id": "XadNYjWOJ1cw",
        "colab": {
          "base_uri": "https://localhost:8080/"
        },
        "outputId": "57cffef1-19df-4aa3-e4d2-2c4311912a87"
      },
      "source": [
        "!wget https://bin.equinox.io/c/4VmDzA7iaHb/ngrok-stable-linux-amd64.zip\n",
        "!unzip ngrok-stable-linux-amd64.zip\n",
        "!pip install bottle\n",
        "!pip install bottle_websocket\n",
        "!pip install gevent"
      ],
      "execution_count": 1,
      "outputs": [
        {
          "output_type": "stream",
          "name": "stdout",
          "text": [
            "--2022-02-17 04:30:15--  https://bin.equinox.io/c/4VmDzA7iaHb/ngrok-stable-linux-amd64.zip\n",
            "Resolving bin.equinox.io (bin.equinox.io)... 18.205.222.128, 54.161.241.46, 54.237.133.81, ...\n",
            "Connecting to bin.equinox.io (bin.equinox.io)|18.205.222.128|:443... connected.\n",
            "HTTP request sent, awaiting response... 200 OK\n",
            "Length: 13832437 (13M) [application/octet-stream]\n",
            "Saving to: ‘ngrok-stable-linux-amd64.zip’\n",
            "\n",
            "ngrok-stable-linux- 100%[===================>]  13.19M  6.68MB/s    in 2.0s    \n",
            "\n",
            "2022-02-17 04:30:17 (6.68 MB/s) - ‘ngrok-stable-linux-amd64.zip’ saved [13832437/13832437]\n",
            "\n",
            "Archive:  ngrok-stable-linux-amd64.zip\n",
            "  inflating: ngrok                   \n",
            "Collecting bottle\n",
            "  Downloading bottle-0.12.19-py3-none-any.whl (89 kB)\n",
            "\u001b[K     |████████████████████████████████| 89 kB 2.6 MB/s \n",
            "\u001b[?25hInstalling collected packages: bottle\n",
            "Successfully installed bottle-0.12.19\n",
            "Collecting bottle_websocket\n",
            "  Downloading bottle-websocket-0.2.9.tar.gz (2.0 kB)\n",
            "Requirement already satisfied: bottle in /usr/local/lib/python3.7/dist-packages (from bottle_websocket) (0.12.19)\n",
            "Collecting gevent-websocket\n",
            "  Downloading gevent_websocket-0.10.1-py3-none-any.whl (22 kB)\n",
            "Collecting gevent\n",
            "  Downloading gevent-21.12.0-cp37-cp37m-manylinux_2_12_x86_64.manylinux2010_x86_64.whl (5.8 MB)\n",
            "\u001b[K     |████████████████████████████████| 5.8 MB 3.7 MB/s \n",
            "\u001b[?25hCollecting zope.interface\n",
            "  Downloading zope.interface-5.4.0-cp37-cp37m-manylinux2010_x86_64.whl (251 kB)\n",
            "\u001b[K     |████████████████████████████████| 251 kB 55.4 MB/s \n",
            "\u001b[?25hRequirement already satisfied: greenlet<2.0,>=1.1.0 in /usr/local/lib/python3.7/dist-packages (from gevent->gevent-websocket->bottle_websocket) (1.1.2)\n",
            "Requirement already satisfied: setuptools in /usr/local/lib/python3.7/dist-packages (from gevent->gevent-websocket->bottle_websocket) (57.4.0)\n",
            "Collecting zope.event\n",
            "  Downloading zope.event-4.5.0-py2.py3-none-any.whl (6.8 kB)\n",
            "Building wheels for collected packages: bottle-websocket\n",
            "  Building wheel for bottle-websocket (setup.py) ... \u001b[?25l\u001b[?25hdone\n",
            "  Created wheel for bottle-websocket: filename=bottle_websocket-0.2.9-py3-none-any.whl size=2348 sha256=d96688651529454c81510bca2b0a5e2314049e3b557e4c46fb2a99ef6a8796e2\n",
            "  Stored in directory: /root/.cache/pip/wheels/18/b2/4e/64bf3902ad2756ffb308af8b68e859e3c57b860525021ca0fd\n",
            "Successfully built bottle-websocket\n",
            "Installing collected packages: zope.interface, zope.event, gevent, gevent-websocket, bottle-websocket\n",
            "Successfully installed bottle-websocket-0.2.9 gevent-21.12.0 gevent-websocket-0.10.1 zope.event-4.5.0 zope.interface-5.4.0\n",
            "Requirement already satisfied: gevent in /usr/local/lib/python3.7/dist-packages (21.12.0)\n",
            "Requirement already satisfied: zope.event in /usr/local/lib/python3.7/dist-packages (from gevent) (4.5.0)\n",
            "Requirement already satisfied: zope.interface in /usr/local/lib/python3.7/dist-packages (from gevent) (5.4.0)\n",
            "Requirement already satisfied: setuptools in /usr/local/lib/python3.7/dist-packages (from gevent) (57.4.0)\n",
            "Requirement already satisfied: greenlet<2.0,>=1.1.0 in /usr/local/lib/python3.7/dist-packages (from gevent) (1.1.2)\n"
          ]
        }
      ]
    },
    {
      "cell_type": "markdown",
      "metadata": {
        "id": "pQkCGs6u9Lbt"
      },
      "source": [
        "## Java script for web camera"
      ]
    },
    {
      "cell_type": "code",
      "metadata": {
        "id": "Nz6ugi6mJ8EZ"
      },
      "source": [
        "from IPython.display import display, Javascript\n",
        "from google.colab.output import eval_js\n",
        "\n",
        "def use_cam(url, quality=0.8):\n",
        "  print(\"start camera\")\n",
        "  js = Javascript('''\n",
        "    async function useCam(url, quality) {\n",
        "      const div = document.createElement('div');\n",
        "      document.body.appendChild(div);\n",
        "      //video element\n",
        "      const video = document.createElement('video');\n",
        "      video.style.display = 'None';\n",
        "      const stream = await navigator.mediaDevices.getUserMedia({video: true});\n",
        "      div.appendChild(video);\n",
        "      video.srcObject = stream;\n",
        "      await video.play();\n",
        "      \n",
        "      //canvas for display. frame rate is depending on display size and jpeg quality.\n",
        "      display_size = 500 \n",
        "      const src_canvas = document.createElement('canvas');\n",
        "      src_canvas.width  = display_size;\n",
        "      src_canvas.height = display_size * video.videoHeight / video.videoWidth;\n",
        "      const src_canvasCtx = src_canvas.getContext('2d');\n",
        "      src_canvasCtx.translate(src_canvas.width, 0);\n",
        "      src_canvasCtx.scale(-1, 1);\n",
        "      div.appendChild(src_canvas);\n",
        "\n",
        "      const dst_canvas = document.createElement('canvas');\n",
        "      dst_canvas.width  = src_canvas.width;\n",
        "      dst_canvas.height = src_canvas.height;\n",
        "      const dst_canvasCtx = dst_canvas.getContext('2d');\n",
        "      div.appendChild(dst_canvas);\n",
        "      \n",
        "      //exit button\n",
        "      const btn_div = document.createElement('div');\n",
        "      document.body.appendChild(btn_div);\n",
        "      const exit_btn = document.createElement('button');\n",
        "      exit_btn.textContent = 'Exit';\n",
        "      var exit_flg = true\n",
        "      exit_btn.onclick = function() {exit_flg = false};\n",
        "      btn_div.appendChild(exit_btn);\n",
        "\n",
        "      //log\n",
        "      let jsLog = function(abc) {\n",
        "        document.querySelector(\"#output-area\").appendChild(document.createTextNode(`${abc} `));\n",
        "      }\n",
        "      // Resize the output to fit the video element.\n",
        "      google.colab.output.setIframeHeight(document.documentElement.scrollHeight, true);\n",
        "      \n",
        "      //for websocket connection.\n",
        "      var connection = 0\n",
        "      var flag_count = 0\n",
        "      var send_flg = false\n",
        "\n",
        "      // loop\n",
        "      _canvasUpdate();\n",
        "      async function _canvasUpdate() {\n",
        "            flag_count += 1\n",
        "            \n",
        "            //wait until websocket launch\n",
        "            if (flag_count == 200){\n",
        "                connection = new WebSocket(url); \n",
        "                jsLog(\"Connect_start\")\n",
        "            }\n",
        "            if (flag_count == 300){\n",
        "                connection.onmessage = function(e) {\n",
        "                    var image = new Image()\n",
        "                    image.src = e.data;\n",
        "                    image.onload = function(){dst_canvasCtx.drawImage(image, 0, 0)}\n",
        "                    send_flg=false\n",
        "                };\n",
        "                jsLog(\"Set_recieve\")\n",
        "            }\n",
        "            if(flag_count > 400){\n",
        "                //resize to reduce file size\n",
        "                src_canvasCtx.drawImage(video, 0, 0, video.videoWidth, video.videoHeight, 0, 0, src_canvas.width, src_canvas.height);\n",
        "                const img = src_canvas.toDataURL('image/jpeg', quality);\n",
        "                if (send_flg==false){\n",
        "                    connection.send(img);\n",
        "                    send_flg = true\n",
        "                }\n",
        "            }\n",
        "          if (exit_flg){\n",
        "              requestAnimationFrame(_canvasUpdate);   \n",
        "          }else{\n",
        "              stream.getVideoTracks()[0].stop();\n",
        "              connection.close();\n",
        "          }\n",
        "      };\n",
        "    }\n",
        "    ''')\n",
        "  display(js)\n",
        "  data = eval_js('useCam(\"{}\", {})'.format(url, quality))"
      ],
      "execution_count": 3,
      "outputs": []
    },
    {
      "cell_type": "markdown",
      "metadata": {
        "id": "crkCWOCx_yyj"
      },
      "source": [
        "## Launch Ngrok"
      ]
    },
    {
      "cell_type": "code",
      "metadata": {
        "id": "njz9VkLnJ8BX",
        "colab": {
          "base_uri": "https://localhost:8080/"
        },
        "outputId": "75f44ce9-9023-4f2b-9856-ffe4feb5767a"
      },
      "source": [
        "get_ipython().system_raw('./ngrok http 6006 &')\n",
        "! curl -s http://localhost:4040/api/tunnels | python3 -c \\\n",
        "    \"import sys, json;url = json.load(sys.stdin)['tunnels'][0]['public_url'];print(url);f = open('url.txt', 'w');f.write(url);f.close()\""
      ],
      "execution_count": 4,
      "outputs": [
        {
          "output_type": "stream",
          "name": "stdout",
          "text": [
            "https://635d-34-73-11-145.ngrok.io\n"
          ]
        }
      ]
    },
    {
      "cell_type": "markdown",
      "metadata": {
        "id": "ygBSdEL0SYnq"
      },
      "source": [
        "## Start"
      ]
    },
    {
      "cell_type": "code",
      "metadata": {
        "id": "g8qFmqu1J7-j",
        "colab": {
          "base_uri": "https://localhost:8080/",
          "height": 941
        },
        "outputId": "daab320c-4b57-4e71-96f4-ff21279b93dd"
      },
      "source": [
        "import numpy as np\n",
        "import cv2\n",
        "import json\n",
        "import bottle\n",
        "import gevent\n",
        "from bottle.ext.websocket import GeventWebSocketServer\n",
        "from bottle.ext.websocket import websocket\n",
        "from multiprocessing import Pool\n",
        "from PIL import Image\n",
        "from io import BytesIO\n",
        "import base64\n",
        "\n",
        "socket = bottle.Bottle()\n",
        "@socket.route('/', apply=[websocket])\n",
        "def wsbin(ws):\n",
        "    while True:\n",
        "        try:\n",
        "            #decode to image\n",
        "            img_str = ws.receive()\n",
        "            decimg = base64.b64decode(img_str.split(',')[1], validate=True)\n",
        "            decimg = Image.open(BytesIO(decimg))\n",
        "            decimg = np.array(decimg, dtype=np.uint8); \n",
        "            decimg = cv2.cvtColor(decimg, cv2.COLOR_BGR2RGB)\n",
        "            \n",
        "            #############your process###############\n",
        "            \n",
        "            out_img = cv2.Canny(decimg,100,200)\n",
        "            #out_img = decimg\n",
        "            \n",
        "            #############your process###############\n",
        "        \n",
        "            #encode to string\n",
        "            _, encimg = cv2.imencode(\".jpg\", out_img, [int(cv2.IMWRITE_JPEG_QUALITY), 80])\n",
        "            img_str = encimg.tostring()\n",
        "            img_str = \"data:image/jpeg;base64,\" + base64.b64encode(img_str).decode('utf-8')\n",
        "            ws.send(img_str)\n",
        "        except:\n",
        "            pass\n",
        "            #print(\"error\")\n",
        "\n",
        "if __name__ == '__main__':\n",
        "    # get ngrok url\n",
        "    f = open(\"url.txt\", \"r\")\n",
        "    url = f.read()\n",
        "    f.close()\n",
        "    url = \"wss\" + url[5:]\n",
        "    # prepare multiprocess\n",
        "    _pool = Pool(processes=2)\n",
        "    _pool.apply_async(use_cam, (url, 0.8))\n",
        "    socket.run(host='0.0.0.0', port=6006, server=GeventWebSocketServer)\n",
        "   "
      ],
      "execution_count": null,
      "outputs": [
        {
          "output_type": "stream",
          "name": "stdout",
          "text": [
            "start camera\n"
          ]
        },
        {
          "output_type": "display_data",
          "data": {
            "application/javascript": [
              "\n",
              "    async function useCam(url, quality) {\n",
              "      const div = document.createElement('div');\n",
              "      document.body.appendChild(div);\n",
              "      //video element\n",
              "      const video = document.createElement('video');\n",
              "      video.style.display = 'None';\n",
              "      const stream = await navigator.mediaDevices.getUserMedia({video: true});\n",
              "      div.appendChild(video);\n",
              "      video.srcObject = stream;\n",
              "      await video.play();\n",
              "      \n",
              "      //canvas for display. frame rate is depending on display size and jpeg quality.\n",
              "      display_size = 500 \n",
              "      const src_canvas = document.createElement('canvas');\n",
              "      src_canvas.width  = display_size;\n",
              "      src_canvas.height = display_size * video.videoHeight / video.videoWidth;\n",
              "      const src_canvasCtx = src_canvas.getContext('2d');\n",
              "      src_canvasCtx.translate(src_canvas.width, 0);\n",
              "      src_canvasCtx.scale(-1, 1);\n",
              "      div.appendChild(src_canvas);\n",
              "\n",
              "      const dst_canvas = document.createElement('canvas');\n",
              "      dst_canvas.width  = src_canvas.width;\n",
              "      dst_canvas.height = src_canvas.height;\n",
              "      const dst_canvasCtx = dst_canvas.getContext('2d');\n",
              "      div.appendChild(dst_canvas);\n",
              "      \n",
              "      //exit button\n",
              "      const btn_div = document.createElement('div');\n",
              "      document.body.appendChild(btn_div);\n",
              "      const exit_btn = document.createElement('button');\n",
              "      exit_btn.textContent = 'Exit';\n",
              "      var exit_flg = true\n",
              "      exit_btn.onclick = function() {exit_flg = false};\n",
              "      btn_div.appendChild(exit_btn);\n",
              "\n",
              "      //log\n",
              "      let jsLog = function(abc) {\n",
              "        document.querySelector(\"#output-area\").appendChild(document.createTextNode(`${abc} `));\n",
              "      }\n",
              "      // Resize the output to fit the video element.\n",
              "      google.colab.output.setIframeHeight(document.documentElement.scrollHeight, true);\n",
              "      \n",
              "      //for websocket connection.\n",
              "      var connection = 0\n",
              "      var flag_count = 0\n",
              "      var send_flg = false\n",
              "\n",
              "      // loop\n",
              "      _canvasUpdate();\n",
              "      async function _canvasUpdate() {\n",
              "            flag_count += 1\n",
              "            \n",
              "            //wait until websocket launch\n",
              "            if (flag_count == 200){\n",
              "                connection = new WebSocket(url); \n",
              "                jsLog(\"Connect_start\")\n",
              "            }\n",
              "            if (flag_count == 300){\n",
              "                connection.onmessage = function(e) {\n",
              "                    var image = new Image()\n",
              "                    image.src = e.data;\n",
              "                    image.onload = function(){dst_canvasCtx.drawImage(image, 0, 0)}\n",
              "                    send_flg=false\n",
              "                };\n",
              "                jsLog(\"Set_recieve\")\n",
              "            }\n",
              "            if(flag_count > 400){\n",
              "                //resize to reduce file size\n",
              "                src_canvasCtx.drawImage(video, 0, 0, video.videoWidth, video.videoHeight, 0, 0, src_canvas.width, src_canvas.height);\n",
              "                const img = src_canvas.toDataURL('image/jpeg', quality);\n",
              "                if (send_flg==false){\n",
              "                    connection.send(img);\n",
              "                    send_flg = true\n",
              "                }\n",
              "            }\n",
              "          if (exit_flg){\n",
              "              requestAnimationFrame(_canvasUpdate);   \n",
              "          }else{\n",
              "              stream.getVideoTracks()[0].stop();\n",
              "              connection.close();\n",
              "          }\n",
              "      };\n",
              "    }\n",
              "    "
            ],
            "text/plain": [
              "<IPython.core.display.Javascript object>"
            ]
          },
          "metadata": {}
        },
        {
          "output_type": "stream",
          "name": "stderr",
          "text": [
            "Bottle v0.12.19 server starting up (using GeventWebSocketServer())...\n",
            "Listening on http://0.0.0.0:6006/\n",
            "Hit Ctrl-C to quit.\n",
            "\n",
            "\n",
            "PYDEV DEBUGGER WARNING:\n",
            "sys.settrace() should not be used when the debugger is being used.\n",
            "This may cause the debugger to stop working correctly.\n",
            "If this is needed, please check: \n",
            "http://pydev.blogspot.com/2007/06/why-cant-pydev-debugger-work-with.html\n",
            "to see how to restore the debug tracing back correctly.\n",
            "Call Location:\n",
            "  File \"/usr/local/lib/python3.7/dist-packages/gevent/threadpool.py\", line 157, in _before_run_task\n",
            "    _sys.settrace(_get_thread_trace())\n",
            "\n",
            "\n",
            "PYDEV DEBUGGER WARNING:\n",
            "sys.settrace() should not be used when the debugger is being used.\n",
            "This may cause the debugger to stop working correctly.\n",
            "If this is needed, please check: \n",
            "http://pydev.blogspot.com/2007/06/why-cant-pydev-debugger-work-with.html\n",
            "to see how to restore the debug tracing back correctly.\n",
            "Call Location:\n",
            "  File \"/usr/local/lib/python3.7/dist-packages/gevent/threadpool.py\", line 162, in _after_run_task\n",
            "    _sys.settrace(None)\n",
            "\n",
            "/usr/local/lib/python3.7/dist-packages/ipykernel_launcher.py:34: DeprecationWarning: tostring() is deprecated. Use tobytes() instead.\n"
          ]
        }
      ]
    }
  ]
}